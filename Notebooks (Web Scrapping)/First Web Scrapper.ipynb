{
 "cells": [
  {
   "cell_type": "markdown",
   "id": "81170bb4-b3b6-4c1e-862e-b2b06ae49ac9",
   "metadata": {},
   "source": [
    "### Getting started with BeautifulSoup"
   ]
  },
  {
   "cell_type": "code",
   "execution_count": 1,
   "id": "23dacc06-160c-4274-867a-4307c69d6ead",
   "metadata": {},
   "outputs": [],
   "source": [
    "from urllib.request import urlopen\n",
    "from bs4 import BeautifulSoup"
   ]
  },
  {
   "cell_type": "markdown",
   "id": "0b86fc8c-bb70-42e0-9431-6cc4e9ca99b0",
   "metadata": {},
   "source": [
    "### Accessing urls"
   ]
  },
  {
   "cell_type": "code",
   "execution_count": 2,
   "id": "9b031d2c-846d-4130-b77d-a2a6461d8ce5",
   "metadata": {},
   "outputs": [],
   "source": [
    "html = urlopen(\"https://www.ibm.com/topics/logistic-regression\")"
   ]
  },
  {
   "cell_type": "markdown",
   "id": "dcf61a12-1d3b-4d0c-bba6-3fb6311ed4d1",
   "metadata": {},
   "source": [
    "###  Reading URLs with \"html.parser\""
   ]
  },
  {
   "cell_type": "code",
   "execution_count": 3,
   "id": "132cc2fe-968d-47a0-ac7c-9bee26cc868c",
   "metadata": {
    "scrolled": true
   },
   "outputs": [],
   "source": [
    "bs = BeautifulSoup(html.read(),'html.parser')"
   ]
  },
  {
   "cell_type": "markdown",
   "id": "87e7096f-3d24-463a-a486-2d70ca3f30cb",
   "metadata": {},
   "source": [
    "### Reading specific tags"
   ]
  },
  {
   "cell_type": "code",
   "execution_count": 28,
   "id": "8f6f229d-3441-4fe1-ba24-b680ed3c2c6f",
   "metadata": {},
   "outputs": [
    {
     "name": "stdout",
     "output_type": "stream",
     "text": [
      "<title>What Is Logistic Regression? | IBM</title>\n"
     ]
    }
   ],
   "source": [
    "print(bs.title)"
   ]
  },
  {
   "cell_type": "markdown",
   "id": "326a9cbb-db57-4b30-b4ba-3591399ad9b9",
   "metadata": {},
   "source": [
    "###  Reading URLs with \"html5lib\""
   ]
  },
  {
   "cell_type": "code",
   "execution_count": 5,
   "id": "842b0bac-288e-4932-a5a1-899c8272306b",
   "metadata": {
    "scrolled": true
   },
   "outputs": [],
   "source": [
    "bs1 = BeautifulSoup(html.read(),\"html5lib\")"
   ]
  },
  {
   "cell_type": "code",
   "execution_count": 6,
   "id": "9ad91f17-8b1a-48af-b12c-9bd766fea1e7",
   "metadata": {},
   "outputs": [
    {
     "name": "stdout",
     "output_type": "stream",
     "text": [
      "<html><head></head><body></body></html>\n"
     ]
    }
   ],
   "source": [
    "print(bs1)"
   ]
  },
  {
   "cell_type": "markdown",
   "id": "999ed7cd-ac2c-4783-b376-b736bab564a0",
   "metadata": {},
   "source": [
    "###  Reading URLs with \"lxml\""
   ]
  },
  {
   "cell_type": "code",
   "execution_count": 7,
   "id": "8accc868-ec3e-4c1e-bd25-3a63428631ea",
   "metadata": {},
   "outputs": [],
   "source": [
    "bs2 = BeautifulSoup(html.read(),\"lxml\")"
   ]
  },
  {
   "cell_type": "code",
   "execution_count": 8,
   "id": "e6d22f9b-7940-4e1e-b9f3-174b400f63a9",
   "metadata": {},
   "outputs": [
    {
     "name": "stdout",
     "output_type": "stream",
     "text": [
      "\n"
     ]
    }
   ],
   "source": [
    "print(bs2)"
   ]
  },
  {
   "cell_type": "markdown",
   "id": "91bf08f2-55fc-4187-8f49-022a19c03add",
   "metadata": {},
   "source": [
    "### Handling errors"
   ]
  },
  {
   "cell_type": "code",
   "execution_count": 9,
   "id": "6ed7ae27-a691-4ab8-b84b-07847c3655a6",
   "metadata": {},
   "outputs": [],
   "source": [
    "from urllib.error import HTTPError\n",
    "from urllib.error import URLError"
   ]
  },
  {
   "cell_type": "markdown",
   "id": "1bb783bc-a60c-4841-aef6-4e2ba0657cdd",
   "metadata": {},
   "source": [
    "### HTTPError: HTTP error may be “404 Page Not Found,” “500 Internal Server Error,” and so forth. In all of these cases, the urlopen function will throw the generic exception HTTPError"
   ]
  },
  {
   "cell_type": "code",
   "execution_count": 11,
   "id": "b4a4839f-818f-4763-8d41-fe61155a21dd",
   "metadata": {},
   "outputs": [
    {
     "name": "stdout",
     "output_type": "stream",
     "text": [
      "HTTP Error 404: Not Found\n"
     ]
    }
   ],
   "source": [
    "try:\n",
    "    html = urlopen(\"https://abc.com//app\")\n",
    "except HTTPError as e:\n",
    "    print(e)\n",
    "except URLError as e:\n",
    "    print(\"The server could not be found!\")\n",
    "else:\n",
    "    print(\"All good\")"
   ]
  },
  {
   "cell_type": "markdown",
   "id": "1709e994-9df4-4e7c-a7c8-f9072690e4f4",
   "metadata": {},
   "source": [
    "### URLEroor : When the url is wrong/ does not exist"
   ]
  },
  {
   "cell_type": "code",
   "execution_count": 12,
   "id": "988ad398-21a7-4311-98a3-1bca5e40d228",
   "metadata": {},
   "outputs": [
    {
     "name": "stdout",
     "output_type": "stream",
     "text": [
      "The server could not be found!\n"
     ]
    }
   ],
   "source": [
    "try:\n",
    "    html = urlopen(\"https://abc#2.com//app\")\n",
    "except HTTPError as e:\n",
    "    print(e)\n",
    "except URLError as e:\n",
    "    print(\"The server could not be found!\")\n",
    "else:\n",
    "    print(\"All good\")"
   ]
  },
  {
   "cell_type": "markdown",
   "id": "3e95d20d-b9a3-4e59-9bc3-a24736cc6806",
   "metadata": {},
   "source": [
    "### when there is no error"
   ]
  },
  {
   "cell_type": "code",
   "execution_count": 16,
   "id": "75a08dfa-e352-4ecd-82c5-f6fb664b687a",
   "metadata": {},
   "outputs": [
    {
     "name": "stdout",
     "output_type": "stream",
     "text": [
      "All good <built-in method title of bytes object at 0x00000265EB61D040>\n"
     ]
    }
   ],
   "source": [
    "try:\n",
    "    html = urlopen(\"https://abc.com\")\n",
    "except HTTPError as e:\n",
    "    print(e)\n",
    "except URLError as e:\n",
    "    print(\"The server could not be found!\")\n",
    "else:\n",
    "    print(\"All good\",html.read().title)"
   ]
  },
  {
   "cell_type": "markdown",
   "id": "bbc6cb1b-2f4f-43e0-b99a-f9673dd3115d",
   "metadata": {},
   "source": [
    "### handling missing tags"
   ]
  },
  {
   "cell_type": "markdown",
   "id": "b8a919be-4691-44c9-9efc-d54699dcd311",
   "metadata": {},
   "source": [
    "#### 1. when everything is working"
   ]
  },
  {
   "cell_type": "code",
   "execution_count": 21,
   "id": "e5e23870-9883-4c52-a9e0-a954c199effa",
   "metadata": {},
   "outputs": [
    {
     "name": "stdout",
     "output_type": "stream",
     "text": [
      "<title>What Is Logistic Regression? | IBM</title>\n"
     ]
    }
   ],
   "source": [
    "try:\n",
    "    tag = bs.title\n",
    "except AttributeError as e:\n",
    "    print(\"Tag was not found\")\n",
    "else:\n",
    "    if tag == None:\n",
    "        print(\"Tag not found\")\n",
    "    else:\n",
    "        print(tag)"
   ]
  },
  {
   "cell_type": "markdown",
   "id": "011ec885-56a8-4f40-8545-8ba510863386",
   "metadata": {},
   "source": [
    "### 2.  the tag is not found (None)"
   ]
  },
  {
   "cell_type": "code",
   "execution_count": 22,
   "id": "a3963573-1a4b-40dc-8919-8438aa163713",
   "metadata": {},
   "outputs": [
    {
     "name": "stdout",
     "output_type": "stream",
     "text": [
      "Tag not found\n"
     ]
    }
   ],
   "source": [
    "try:\n",
    "    tag = bs.h1\n",
    "except AttributeError as e:\n",
    "    print(\"Tag was not found\")\n",
    "else:\n",
    "    if tag == None:\n",
    "        print(\"Tag not found\")\n",
    "    else:\n",
    "        print(tag)"
   ]
  },
  {
   "cell_type": "code",
   "execution_count": null,
   "id": "383d6b52-ee77-41d3-a72b-0a403f430afe",
   "metadata": {},
   "outputs": [],
   "source": [
    "#### 3.  when we try to access attribute for the tag which is not found (None)"
   ]
  },
  {
   "cell_type": "code",
   "execution_count": 27,
   "id": "c38d01ad-094a-439c-8e88-0519450a5dbf",
   "metadata": {},
   "outputs": [
    {
     "name": "stdout",
     "output_type": "stream",
     "text": [
      "Tag was not found\n"
     ]
    }
   ],
   "source": [
    "try:\n",
    "    tag = bs.h1.abc\n",
    "except AttributeError as e:\n",
    "    print(\"Tag was not found\")\n",
    "else:\n",
    "    if tag == None:\n",
    "        print(\"Tag not found\")\n",
    "    else:\n",
    "        print(tag)"
   ]
  },
  {
   "cell_type": "code",
   "execution_count": null,
   "id": "2b081bcb-bb96-4f6b-a4a5-c7e499166b16",
   "metadata": {},
   "outputs": [],
   "source": []
  }
 ],
 "metadata": {
  "kernelspec": {
   "display_name": "Python 3 (ipykernel)",
   "language": "python",
   "name": "python3"
  },
  "language_info": {
   "codemirror_mode": {
    "name": "ipython",
    "version": 3
   },
   "file_extension": ".py",
   "mimetype": "text/x-python",
   "name": "python",
   "nbconvert_exporter": "python",
   "pygments_lexer": "ipython3",
   "version": "3.11.5"
  }
 },
 "nbformat": 4,
 "nbformat_minor": 5
}
